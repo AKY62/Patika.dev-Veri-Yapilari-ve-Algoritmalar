{
 "cells": [
  {
   "cell_type": "markdown",
   "id": "15c4cb00",
   "metadata": {},
   "source": [
    "# Patika.dev 'Veri Yapıları ve Algoritmalar' Dersi\n",
    "## Proje 1 - Insertion Sort"
   ]
  },
  {
   "cell_type": "markdown",
   "id": "560f6cf0",
   "metadata": {},
   "source": [
    "[22,27,16,2,18,6] -> Insertion Sort türüne göre aşamaları aşağıdaki gibidir:"
   ]
  },
  {
   "cell_type": "markdown",
   "id": "0b3efcee",
   "metadata": {},
   "source": [
    "1. Yukarı verilen dizinin sort türüne göre aşamaları aşağıdaki gibidir:\n",
    "\n",
    "    [22,27,16,2,18,6]\n",
    "\n",
    "    [2,27,16,22,18,6]\n",
    "\n",
    "    [2,6,16,22,18,27]\n",
    "\n",
    "    [2,6,16,18,22,27]"
   ]
  },
  {
   "cell_type": "markdown",
   "id": "bdae56bd",
   "metadata": {},
   "source": [
    "2. Big-O gösterimine göre O(n**2) diyebiliriz"
   ]
  },
  {
   "cell_type": "markdown",
   "id": "06f3f01f",
   "metadata": {},
   "source": [
    "3. Dizi sıralandıktan sonra 18 sayısı \"Average Case\" kapsamına girer."
   ]
  },
  {
   "cell_type": "markdown",
   "id": "539771c2",
   "metadata": {},
   "source": [
    "4. [7,3,5,8,2,9,4,15,6] dizisinin Selection Sort'a göre ilk 4 adımı aşağıdaki gibidir:\n",
    "\n",
    "    [7,3,5,8,2,9,4,15,6]\n",
    "\n",
    "    [2,3,5,8,7,9,4,15,6]\n",
    "\n",
    "    [2,3,4,8,7,9,5,15,6]\n",
    "\n",
    "    [2,3,4,5,7,9,8,15,6]\n"
   ]
  }
 ],
 "metadata": {
  "kernelspec": {
   "display_name": "Python 3 (ipykernel)",
   "language": "python",
   "name": "python3"
  },
  "language_info": {
   "codemirror_mode": {
    "name": "ipython",
    "version": 3
   },
   "file_extension": ".py",
   "mimetype": "text/x-python",
   "name": "python",
   "nbconvert_exporter": "python",
   "pygments_lexer": "ipython3",
   "version": "3.9.12"
  }
 },
 "nbformat": 4,
 "nbformat_minor": 5
}
