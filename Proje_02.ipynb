{
 "cells": [
  {
   "cell_type": "markdown",
   "id": "493d0c43",
   "metadata": {},
   "source": [
    "# Proje 2\n",
    "\n",
    "[16,21,11,8,12,22] -> Merge Sort\n",
    "\n",
    "1.Yukarıdaki dizinin sort türüne göre aşamaları aşağıdaki gibidir:\n",
    "\n",
    "[16,21,11] ve [8,12,22]\n",
    "\n",
    "[16,21] [11] ve [8,12] [22]\n",
    "\n",
    "[16] [21] ve [11] ayrıca [8] [12] ve [22]\n",
    "\n",
    "Tekrar merge etmeye başlarsak:\n",
    "\n",
    "[16,21] [11] ve [8,12] [22]\n",
    "\n",
    "Tekrar birleştirirsek:\n",
    "\n",
    "[11,16,21] ve [8,12,22]\n",
    "\n",
    "Tekrar birleştirirsek:\n",
    "\n",
    "[8,11,12,16,21,22]'yi elde ederiz\n",
    "\n",
    "2. Big-O gösterimi O(n * log(n))"
   ]
  }
 ],
 "metadata": {
  "kernelspec": {
   "display_name": "Python 3 (ipykernel)",
   "language": "python",
   "name": "python3"
  },
  "language_info": {
   "codemirror_mode": {
    "name": "ipython",
    "version": 3
   },
   "file_extension": ".py",
   "mimetype": "text/x-python",
   "name": "python",
   "nbconvert_exporter": "python",
   "pygments_lexer": "ipython3",
   "version": "3.9.12"
  }
 },
 "nbformat": 4,
 "nbformat_minor": 5
}
